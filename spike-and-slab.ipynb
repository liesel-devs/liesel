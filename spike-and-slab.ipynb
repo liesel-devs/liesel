{
 "cells": [
  {
   "cell_type": "code",
   "execution_count": null,
   "metadata": {},
   "outputs": [],
   "source": [
    "import liesel.goose as gs\n",
    "import numpy as np\n",
    "import pymc as pm\n",
    "\n",
    "from liesel.experimental.pymc import PyMCInterface"
   ]
  },
  {
   "cell_type": "code",
   "execution_count": null,
   "metadata": {},
   "outputs": [],
   "source": [
    "RANDOM_SEED = 123\n",
    "rng = np.random.RandomState(RANDOM_SEED)"
   ]
  },
  {
   "cell_type": "code",
   "execution_count": null,
   "metadata": {},
   "outputs": [],
   "source": [
    "n = 100\n",
    "p = 4\n",
    "\n",
    "sigma_scalar = 1.0\n",
    "beta_0_scalar = 1.0\n",
    "beta_vec = [0.0, 0.0, 1.0, 2.0]"
   ]
  },
  {
   "cell_type": "code",
   "execution_count": null,
   "metadata": {},
   "outputs": [],
   "source": [
    "X = rng.uniform(size=(n, p))\n",
    "\n",
    "errors = rng.normal(size=n)\n",
    "\n",
    "y = X @ beta_vec + sigma_scalar * errors"
   ]
  },
  {
   "cell_type": "code",
   "execution_count": null,
   "metadata": {},
   "outputs": [],
   "source": [
    "spike_and_slabb_model = pm.Model()\n",
    "\n",
    "mu = 0.\n",
    "\n",
    "alpha_tau = 0.01\n",
    "beta_tau = 0.01\n",
    "\n",
    "alpha_sigma = 0.01\n",
    "beta_sigma = 0.01\n",
    "\n",
    "alpha_theta = 1.0\n",
    "beta_theta = 1.0\n",
    "\n",
    "p_theta = 0.5\n",
    "\n",
    "nu = 0.0001\n",
    "\n",
    "with spike_and_slabb_model:\n",
    "    # priors    \n",
    "    sigma = pm.InverseGamma(\n",
    "        \"sigma\", alpha=alpha_sigma, beta=beta_sigma\n",
    "    )\n",
    "\n",
    "    theta = pm.Beta(\"theta\", alpha=alpha_theta, beta=beta_theta)\n",
    "    delta = pm.Bernoulli(\"delta\", p=theta)\n",
    "    spike = pm.InverseGamma(\"spike\", alpha=alpha_tau, beta=nu * beta_tau)\n",
    "    slab = pm.InverseGamma(\"slab\", alpha=alpha_tau, beta=beta_tau)\n",
    "    tau = (1 - delta) * spike + delta * slab\n",
    "\n",
    "    beta = pm.Normal(\"beta\", mu=0.0, sigma=tau, shape=p)\n",
    "\n",
    "    # likelihood\n",
    "    pm.Normal(\"y\", mu=X @ beta, sigma=sigma, observed=y)\n",
    "\n",
    "spike_and_slabb_model"
   ]
  },
  {
   "cell_type": "code",
   "execution_count": null,
   "metadata": {},
   "outputs": [],
   "source": [
    "spike_and_slabb_model.unobserved_value_vars"
   ]
  },
  {
   "cell_type": "code",
   "execution_count": null,
   "metadata": {},
   "outputs": [],
   "source": [
    "interface = PyMCInterface(spike_and_slabb_model, additional_vars=[\"sigma\", \"theta\"])\n",
    "state = interface.get_initial_state()"
   ]
  },
  {
   "cell_type": "code",
   "execution_count": null,
   "metadata": {},
   "outputs": [],
   "source": [
    "builder = gs.EngineBuilder(seed=1, num_chains=4)\n",
    "builder.set_model(interface)\n",
    "builder.set_initial_values(state)\n",
    "builder.set_duration(warmup_duration=1000, posterior_duration=2000)\n",
    "\n",
    "builder.add_kernel(gs.NUTSKernel([\"beta\", \"sigma_log__\"]))\n",
    "\n",
    "builder.positions_included = [\"sigma\"]\n",
    "\n",
    "engine = builder.build()\n",
    "\n",
    "engine.sample_all_epochs()"
   ]
  },
  {
   "cell_type": "code",
   "execution_count": null,
   "metadata": {},
   "outputs": [],
   "source": [
    "results = engine.get_results()\n",
    "print(gs.Summary(results))"
   ]
  }
 ],
 "metadata": {
  "kernelspec": {
   "display_name": "liesel",
   "language": "python",
   "name": "python3"
  },
  "language_info": {
   "codemirror_mode": {
    "name": "ipython",
    "version": 3
   },
   "file_extension": ".py",
   "mimetype": "text/x-python",
   "name": "python",
   "nbconvert_exporter": "python",
   "pygments_lexer": "ipython3",
   "version": "3.10.4"
  },
  "orig_nbformat": 4,
  "vscode": {
   "interpreter": {
    "hash": "e83671633a2e2d7256baa96a132c1b0f0bd183f631e97779c96aae3ac0cc50b8"
   }
  }
 },
 "nbformat": 4,
 "nbformat_minor": 2
}
